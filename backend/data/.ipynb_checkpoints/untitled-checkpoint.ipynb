{
 "cells": [
  {
   "cell_type": "code",
   "execution_count": 1,
   "metadata": {},
   "outputs": [],
   "source": [
    "import pandas as pd"
   ]
  },
  {
   "cell_type": "code",
   "execution_count": 199,
   "metadata": {},
   "outputs": [],
   "source": [
    "diabetic_data = pd.read_csv('diabetic_data.csv')"
   ]
  },
  {
   "cell_type": "code",
   "execution_count": null,
   "metadata": {},
   "outputs": [],
   "source": [
    "# from pyspark.sql import SparkSession\n",
    "\n",
    "# # Create a Spark session with configurations\n",
    "# spark = SparkSession.builder \\\n",
    "#     .appName(\"MySparkApp\") \\\n",
    "#     .config(\"spark.executor.memory\", \"4g\") \\  # Adjust as per your available resources\n",
    "#     .config(\"spark.executor.cores\", \"4\") \\  # Adjust based on the number of available cores\n",
    "#     .config(\"spark.executor.instances\", \"2\") \\  # Adjust based on the number of nodes in your cluster\n",
    "#     .config(\"spark.driver.memory\", \"2g\") \\  # Adjust based on your available resources\n",
    "#     .config(\"spark.sql.shuffle.partitions\", \"200\") \\  # Adjust based on the size of your data\n",
    "#     .config(\"spark.default.parallelism\", \"200\") \\  # Adjust based on the number of tasks you want to run in parallel\n",
    "#     .getOrCreate()"
   ]
  },
  {
   "cell_type": "code",
   "execution_count": 186,
   "metadata": {},
   "outputs": [],
   "source": [
    "from pyspark.sql import SparkSession\n",
    "\n",
    "# Create a Spark session with configurations\n",
    "spark = (SparkSession.builder.appName(\"diabetic_app\")\n",
    "            .config(\"spark.executor.memory\", \"4g\") \n",
    "            .config(\"spark.executor.cores\", \"4\") \n",
    "            .config(\"spark.executor.instances\", \"2\")\n",
    "            .config(\"spark.driver.memory\", \"2g\") \n",
    "            .config(\"spark.sql.shuffle.partitions\", \"200\")\n",
    "            .config(\"spark.default.parallelism\", \"200\")\n",
    "            .getOrCreate())"
   ]
  },
  {
   "cell_type": "code",
   "execution_count": 184,
   "metadata": {},
   "outputs": [
    {
     "data": {
      "text/html": [
       "\n",
       "            <div>\n",
       "                <p><b>SparkSession - in-memory</b></p>\n",
       "                \n",
       "        <div>\n",
       "            <p><b>SparkContext</b></p>\n",
       "\n",
       "            <p><a href=\"http://10.0.0.126:4040\">Spark UI</a></p>\n",
       "\n",
       "            <dl>\n",
       "              <dt>Version</dt>\n",
       "                <dd><code>v3.5.0</code></dd>\n",
       "              <dt>Master</dt>\n",
       "                <dd><code>local[*]</code></dd>\n",
       "              <dt>AppName</dt>\n",
       "                <dd><code>diabetic_app</code></dd>\n",
       "            </dl>\n",
       "        </div>\n",
       "        \n",
       "            </div>\n",
       "        "
      ],
      "text/plain": [
       "<pyspark.sql.session.SparkSession at 0x7fa4d84ab0d0>"
      ]
     },
     "execution_count": 184,
     "metadata": {},
     "output_type": "execute_result"
    }
   ],
   "source": [
    "spark"
   ]
  },
  {
   "cell_type": "code",
   "execution_count": 137,
   "metadata": {},
   "outputs": [],
   "source": [
    "diabetic_data.rename(columns={'encounter_id': 'admission_id'},inplace=True)"
   ]
  },
  {
   "cell_type": "code",
   "execution_count": 3,
   "metadata": {},
   "outputs": [
    {
     "data": {
      "text/plain": [
       "(101766, 50)"
      ]
     },
     "execution_count": 3,
     "metadata": {},
     "output_type": "execute_result"
    }
   ],
   "source": [
    "diabetic_data.shape"
   ]
  },
  {
   "cell_type": "code",
   "execution_count": 195,
   "metadata": {},
   "outputs": [
    {
     "data": {
      "text/plain": [
       "{'admission_id': {0: 2278392},\n",
       " 'patient_nbr': {0: 8222157},\n",
       " 'race': {0: 'Caucasian'},\n",
       " 'gender': {0: 'Female'},\n",
       " 'age': {0: '[0-10)'},\n",
       " 'weight': {0: '?'},\n",
       " 'admission_type_id': {0: 6},\n",
       " 'discharge_disposition_id': {0: 25},\n",
       " 'admission_source_id': {0: 1},\n",
       " 'time_in_hospital': {0: 1},\n",
       " 'payer_code': {0: '?'},\n",
       " 'medical_specialty': {0: 'Pediatrics-Endocrinology'},\n",
       " 'num_lab_procedures': {0: 41},\n",
       " 'num_procedures': {0: 0},\n",
       " 'num_medications': {0: 1},\n",
       " 'number_outpatient': {0: 0},\n",
       " 'number_emergency': {0: 0},\n",
       " 'number_inpatient': {0: 0},\n",
       " 'diag_1': {0: '250.83'},\n",
       " 'diag_2': {0: '?'},\n",
       " 'diag_3': {0: '?'},\n",
       " 'number_diagnoses': {0: 1},\n",
       " 'max_glu_serum': {0: 'None'},\n",
       " 'A1Cresult': {0: 'None'},\n",
       " 'metformin': {0: 'No'},\n",
       " 'repaglinide': {0: 'No'},\n",
       " 'nateglinide': {0: 'No'},\n",
       " 'chlorpropamide': {0: 'No'},\n",
       " 'glimepiride': {0: 'No'},\n",
       " 'acetohexamide': {0: 'No'},\n",
       " 'glipizide': {0: 'No'},\n",
       " 'glyburide': {0: 'No'},\n",
       " 'tolbutamide': {0: 'No'},\n",
       " 'pioglitazone': {0: 'No'},\n",
       " 'rosiglitazone': {0: 'No'},\n",
       " 'acarbose': {0: 'No'},\n",
       " 'miglitol': {0: 'No'},\n",
       " 'troglitazone': {0: 'No'},\n",
       " 'tolazamide': {0: 'No'},\n",
       " 'examide': {0: 'No'},\n",
       " 'citoglipton': {0: 'No'},\n",
       " 'insulin': {0: 'No'},\n",
       " 'glyburide-metformin': {0: 'No'},\n",
       " 'glipizide-metformin': {0: 'No'},\n",
       " 'glimepiride-pioglitazone': {0: 'No'},\n",
       " 'metformin-rosiglitazone': {0: 'No'},\n",
       " 'metformin-pioglitazone': {0: 'No'},\n",
       " 'other-generic-diabetes-med': {0: 'No'},\n",
       " 'diabetesMed': {0: 'No'},\n",
       " 'readmitted': {0: 'NO'}}"
      ]
     },
     "execution_count": 195,
     "metadata": {},
     "output_type": "execute_result"
    }
   ],
   "source": [
    "diabetic_data.head(1).to_dict()"
   ]
  },
  {
   "cell_type": "code",
   "execution_count": 12,
   "metadata": {},
   "outputs": [
    {
     "data": {
      "text/plain": [
       "Index(['encounter_id', 'patient_nbr', 'race', 'gender', 'age', 'weight',\n",
       "       'admission_type_id', 'discharge_disposition_id', 'admission_source_id',\n",
       "       'time_in_hospital', 'payer_code', 'medical_specialty',\n",
       "       'num_lab_procedures', 'num_procedures', 'num_medications',\n",
       "       'number_outpatient', 'number_emergency', 'number_inpatient', 'diag_1',\n",
       "       'diag_2', 'diag_3', 'number_diagnoses', 'max_glu_serum', 'A1Cresult',\n",
       "       'metformin', 'repaglinide', 'nateglinide', 'chlorpropamide',\n",
       "       'glimepiride', 'acetohexamide', 'glipizide', 'glyburide', 'tolbutamide',\n",
       "       'pioglitazone', 'rosiglitazone', 'acarbose', 'miglitol', 'troglitazone',\n",
       "       'tolazamide', 'examide', 'citoglipton', 'insulin',\n",
       "       'glyburide-metformin', 'glipizide-metformin',\n",
       "       'glimepiride-pioglitazone', 'metformin-rosiglitazone',\n",
       "       'metformin-pioglitazone', 'change', 'diabetesMed', 'readmitted'],\n",
       "      dtype='object')"
      ]
     },
     "execution_count": 12,
     "metadata": {},
     "output_type": "execute_result"
    }
   ],
   "source": [
    "diabetic_data.columns"
   ]
  },
  {
   "cell_type": "markdown",
   "metadata": {},
   "source": [
    "# Patients Data"
   ]
  },
  {
   "cell_type": "code",
   "execution_count": 16,
   "metadata": {},
   "outputs": [],
   "source": [
    "patient_ids = diabetic_data['patient_nbr'].unique()"
   ]
  },
  {
   "cell_type": "code",
   "execution_count": 14,
   "metadata": {},
   "outputs": [],
   "source": [
    "# patient data\n",
    "patients = diabetic_data[['patient_nbr', 'race', 'gender', 'age', 'weight']]"
   ]
  },
  {
   "cell_type": "code",
   "execution_count": 18,
   "metadata": {},
   "outputs": [
    {
     "ename": "ModuleNotFoundError",
     "evalue": "No module named 'fake'",
     "output_type": "error",
     "traceback": [
      "\u001b[0;31m---------------------------------------------------------------------------\u001b[0m",
      "\u001b[0;31mModuleNotFoundError\u001b[0m                       Traceback (most recent call last)",
      "Cell \u001b[0;32mIn[18], line 1\u001b[0m\n\u001b[0;32m----> 1\u001b[0m \u001b[39mfrom\u001b[39;00m \u001b[39mfake\u001b[39;00m \u001b[39mimport\u001b[39;00m Faker\n\u001b[1;32m      2\u001b[0m \u001b[39mdef\u001b[39;00m \u001b[39mgenerate_fake_name\u001b[39m(gender) \u001b[39m-\u001b[39m\u001b[39m>\u001b[39m \u001b[39mstr\u001b[39m:\n\u001b[1;32m      3\u001b[0m     fake \u001b[39m=\u001b[39m Faker()\n",
      "\u001b[0;31mModuleNotFoundError\u001b[0m: No module named 'fake'"
     ]
    }
   ],
   "source": [
    "from fake import Faker\n",
    "def generate_fake_name(gender) -> str:\n",
    "    fake = Faker()\n",
    "    if gender == 'Female':\n",
    "        return fake.name_female()\n",
    "    \n",
    "    elif gender == 'Male':\n",
    "        return fake.name_male()\n",
    "\n",
    "    else:\n",
    "        return fake.name()"
   ]
  },
  {
   "cell_type": "code",
   "execution_count": null,
   "metadata": {},
   "outputs": [],
   "source": [
    "# generate fake names\n",
    "patient_names = []\n",
    "for patient_id in patient_ids:\n",
    "    # if patient_id in [record['id'] for record in patient_names]:\n",
    "    #     # find patient_name if exists\n",
    "    #     patient_name_found_by_patient_id = [record['name'] for record in patient_names if record['patient_id'] == patient_id][0]\n",
    "    #     pass\n",
    "\n",
    "    # get first result\n",
    "    patient_gender = diabetic_data[diabetic_data['patient_nbr'] == patient_id]['gender']\n",
    "\n",
    "    \n",
    "    # check if any gender is found\n",
    "    assert patient_gender.empty != True, f'Error: No gender found for patient number - {patient_id}'\n",
    "\n",
    "    patient_gender = patient_gender[0]\n",
    "\n",
    "\n",
    "\n",
    "    \n",
    "    \n",
    "\n",
    "\n",
    "    assert patient_gender \n"
   ]
  },
  {
   "cell_type": "markdown",
   "metadata": {},
   "source": [
    "# Physician "
   ]
  },
  {
   "cell_type": "code",
   "execution_count": 80,
   "metadata": {},
   "outputs": [],
   "source": [
    "medical_specialties = sorted(diabetic_data['medical_specialty'].unique().tolist())[1:]"
   ]
  },
  {
   "cell_type": "code",
   "execution_count": 81,
   "metadata": {},
   "outputs": [
    {
     "data": {
      "text/plain": [
       "['AllergyandImmunology', 'Anesthesiology', 'Anesthesiology-Pediatric']"
      ]
     },
     "execution_count": 81,
     "metadata": {},
     "output_type": "execute_result"
    }
   ],
   "source": [
    "medical_specialties[:3]"
   ]
  },
  {
   "cell_type": "code",
   "execution_count": 82,
   "metadata": {},
   "outputs": [],
   "source": [
    "ids = [x+1 for x in range(len(medical_specialties))]"
   ]
  },
  {
   "cell_type": "code",
   "execution_count": 85,
   "metadata": {},
   "outputs": [],
   "source": [
    "physician_dict = [{'id':k, 'physician_specialty': v} for k,v in dict(zip(ids, medical_specialties)).items()]"
   ]
  },
  {
   "cell_type": "code",
   "execution_count": 86,
   "metadata": {},
   "outputs": [
    {
     "data": {
      "text/plain": [
       "[{'id': 1, 'physician_specialty': 'AllergyandImmunology'},\n",
       " {'id': 2, 'physician_specialty': 'Anesthesiology'},\n",
       " {'id': 3, 'physician_specialty': 'Anesthesiology-Pediatric'}]"
      ]
     },
     "execution_count": 86,
     "metadata": {},
     "output_type": "execute_result"
    }
   ],
   "source": [
    "physician_dict[:3]"
   ]
  },
  {
   "cell_type": "code",
   "execution_count": 78,
   "metadata": {},
   "outputs": [],
   "source": [
    "from pyspark.sql import Row"
   ]
  },
  {
   "cell_type": "code",
   "execution_count": 88,
   "metadata": {},
   "outputs": [],
   "source": [
    "# Define the schema with specific column names\n",
    "schema = StructType([\n",
    "    StructField(\"id\", IntegerType(), True),\n",
    "    StructField(\"physician_specialty\", StringType(), True)\n",
    "])\n",
    "\n"
   ]
  },
  {
   "cell_type": "code",
   "execution_count": 89,
   "metadata": {},
   "outputs": [],
   "source": [
    "# Convert the list of dictionaries to a list of Rows\n",
    "rows = [Row(**item) for item in physician_dict]"
   ]
  },
  {
   "cell_type": "code",
   "execution_count": 90,
   "metadata": {},
   "outputs": [
    {
     "name": "stderr",
     "output_type": "stream",
     "text": [
      "[Stage 9:===================================================>     (45 + 4) / 50]\r"
     ]
    },
    {
     "name": "stdout",
     "output_type": "stream",
     "text": [
      "+---+--------------------+\n",
      "| id| physician_specialty|\n",
      "+---+--------------------+\n",
      "|  1|AllergyandImmunology|\n",
      "|  2|      Anesthesiology|\n",
      "|  3|Anesthesiology-Pe...|\n",
      "|  4|          Cardiology|\n",
      "|  5|Cardiology-Pediatric|\n",
      "|  6|             DCPTEAM|\n",
      "|  7|           Dentistry|\n",
      "|  8|         Dermatology|\n",
      "|  9|    Emergency/Trauma|\n",
      "| 10|       Endocrinology|\n",
      "| 11|Endocrinology-Met...|\n",
      "| 12|Family/GeneralPra...|\n",
      "| 13|    Gastroenterology|\n",
      "| 14|          Gynecology|\n",
      "| 15|          Hematology|\n",
      "| 16| Hematology/Oncology|\n",
      "| 17|         Hospitalist|\n",
      "| 18|  InfectiousDiseases|\n",
      "| 19|    InternalMedicine|\n",
      "| 20|          Nephrology|\n",
      "+---+--------------------+\n",
      "only showing top 20 rows\n",
      "\n"
     ]
    },
    {
     "name": "stderr",
     "output_type": "stream",
     "text": [
      "\r",
      "[Stage 9:=======================================================> (49 + 1) / 50]\r",
      "\r",
      "                                                                                \r"
     ]
    }
   ],
   "source": [
    "# Create a DataFrame with the specified schema\n",
    "physician_df_spark = spark.createDataFrame(rows, schema=schema)\n",
    "\n",
    "# Show the DataFrame\n",
    "physician_df_spark.show()"
   ]
  },
  {
   "cell_type": "code",
   "execution_count": 91,
   "metadata": {},
   "outputs": [
    {
     "name": "stderr",
     "output_type": "stream",
     "text": [
      "                                                                                \r"
     ]
    }
   ],
   "source": [
    "physician_df_spark.write.parquet('physician')"
   ]
  },
  {
   "cell_type": "markdown",
   "metadata": {},
   "source": [
    "# Medication "
   ]
  },
  {
   "cell_type": "code",
   "execution_count": 27,
   "metadata": {},
   "outputs": [
    {
     "data": {
      "text/plain": [
       "Index(['encounter_id', 'patient_nbr', 'race', 'gender', 'age', 'weight',\n",
       "       'admission_type_id', 'discharge_disposition_id', 'admission_source_id',\n",
       "       'time_in_hospital', 'payer_code', 'medical_specialty',\n",
       "       'num_lab_procedures', 'num_procedures', 'num_medications',\n",
       "       'number_outpatient', 'number_emergency', 'number_inpatient', 'diag_1',\n",
       "       'diag_2', 'diag_3', 'number_diagnoses', 'max_glu_serum', 'A1Cresult',\n",
       "       'metformin', 'repaglinide', 'nateglinide', 'chlorpropamide',\n",
       "       'glimepiride', 'acetohexamide', 'glipizide', 'glyburide', 'tolbutamide',\n",
       "       'pioglitazone', 'rosiglitazone', 'acarbose', 'miglitol', 'troglitazone',\n",
       "       'tolazamide', 'examide', 'citoglipton', 'insulin',\n",
       "       'glyburide-metformin', 'glipizide-metformin',\n",
       "       'glimepiride-pioglitazone', 'metformin-rosiglitazone',\n",
       "       'metformin-pioglitazone', 'change', 'diabetesMed', 'readmitted'],\n",
       "      dtype='object')"
      ]
     },
     "execution_count": 27,
     "metadata": {},
     "output_type": "execute_result"
    }
   ],
   "source": [
    "diabetic_data.columns"
   ]
  },
  {
   "cell_type": "code",
   "execution_count": 28,
   "metadata": {},
   "outputs": [],
   "source": [
    "medication_columns = ['metformin', 'repaglinide', 'nateglinide', 'chlorpropamide',\n",
    "                      'glimepiride', 'acetohexamide', 'glipizide', 'glyburide', 'tolbutamide',\n",
    "                      'pioglitazone', 'rosiglitazone', 'acarbose', 'miglitol', 'troglitazone',\n",
    "                      'tolazamide', 'examide', 'citoglipton', 'insulin',\n",
    "                      'glyburide-metformin', 'glipizide-metformin',\n",
    "                      'glimepiride-pioglitazone', 'metformin-rosiglitazone',\n",
    "                      'metformin-pioglitazone', 'change', 'diabetesMed']"
   ]
  },
  {
   "cell_type": "code",
   "execution_count": 30,
   "metadata": {},
   "outputs": [
    {
     "data": {
      "text/plain": [
       "['metformin', 'repaglinide', 'nateglinide', 'chlorpropamide', 'glimepiride']"
      ]
     },
     "execution_count": 30,
     "metadata": {},
     "output_type": "execute_result"
    }
   ],
   "source": [
    "medication_columns[:5]"
   ]
  },
  {
   "cell_type": "code",
   "execution_count": 4,
   "metadata": {},
   "outputs": [],
   "source": [
    "medications = ['metformin', 'repaglinide', 'nateglinide', 'chlorpropamide',\n",
    "                      'glimepiride', 'acetohexamide', 'glipizide', 'glyburide', 'tolbutamide',\n",
    "                      'pioglitazone', 'rosiglitazone', 'acarbose', 'miglitol', 'troglitazone',\n",
    "                      'tolazamide', 'examide', 'citoglipton', 'insulin',\n",
    "                      'glyburide-metformin', 'glipizide-metformin',\n",
    "                      'glimepiride-pioglitazone', 'metformin-rosiglitazone',\n",
    "                      'metformin-pioglitazone']"
   ]
  },
  {
   "cell_type": "code",
   "execution_count": 5,
   "metadata": {},
   "outputs": [],
   "source": [
    "medications = sorted(medications)"
   ]
  },
  {
   "cell_type": "code",
   "execution_count": 6,
   "metadata": {},
   "outputs": [],
   "source": [
    "ids = [x+1 for x in range(len(medications))]"
   ]
  },
  {
   "cell_type": "code",
   "execution_count": 7,
   "metadata": {},
   "outputs": [],
   "source": [
    "medication_dict = [{'id':k, 'medication_name': v} for k,v in dict(zip(ids, medications)).items()]"
   ]
  },
  {
   "cell_type": "code",
   "execution_count": 92,
   "metadata": {},
   "outputs": [],
   "source": [
    "rows = [Row(**item) for item in medication_dict]"
   ]
  },
  {
   "cell_type": "code",
   "execution_count": 95,
   "metadata": {},
   "outputs": [],
   "source": [
    "schema = StructType([\n",
    "    StructField('id', IntegerType(), False),\n",
    "    StructField('medication_name', StringType(), False)\n",
    "])"
   ]
  },
  {
   "cell_type": "code",
   "execution_count": 96,
   "metadata": {},
   "outputs": [],
   "source": [
    "medication = spark.createDataFrame(rows, schema)"
   ]
  },
  {
   "cell_type": "code",
   "execution_count": 97,
   "metadata": {},
   "outputs": [
    {
     "name": "stderr",
     "output_type": "stream",
     "text": [
      "                                                                                \r"
     ]
    }
   ],
   "source": [
    "medication.write.parquet('medication')"
   ]
  },
  {
   "cell_type": "code",
   "execution_count": 11,
   "metadata": {},
   "outputs": [],
   "source": [
    "med_mapping = [{med['medication_name']:med['id']} for med in medication_dict]"
   ]
  },
  {
   "cell_type": "code",
   "execution_count": 42,
   "metadata": {},
   "outputs": [
    {
     "data": {
      "text/plain": [
       "[{'acarbose': 1},\n",
       " {'acetohexamide': 2},\n",
       " {'chlorpropamide': 3},\n",
       " {'citoglipton': 4},\n",
       " {'examide': 5},\n",
       " {'glimepiride': 6},\n",
       " {'glimepiride-pioglitazone': 7},\n",
       " {'glipizide': 8},\n",
       " {'glipizide-metformin': 9},\n",
       " {'glyburide': 10},\n",
       " {'glyburide-metformin': 11},\n",
       " {'insulin': 12},\n",
       " {'metformin': 13},\n",
       " {'metformin-pioglitazone': 14},\n",
       " {'metformin-rosiglitazone': 15},\n",
       " {'miglitol': 16},\n",
       " {'nateglinide': 17},\n",
       " {'pioglitazone': 18},\n",
       " {'repaglinide': 19},\n",
       " {'rosiglitazone': 20},\n",
       " {'tolazamide': 21},\n",
       " {'tolbutamide': 22},\n",
       " {'troglitazone': 23}]"
      ]
     },
     "execution_count": 42,
     "metadata": {},
     "output_type": "execute_result"
    }
   ],
   "source": [
    "med_mapping"
   ]
  },
  {
   "cell_type": "code",
   "execution_count": 12,
   "metadata": {},
   "outputs": [],
   "source": [
    "first_record = diabetic_data[['encounter_id']+medications].iloc[0]"
   ]
  },
  {
   "cell_type": "code",
   "execution_count": 35,
   "metadata": {},
   "outputs": [],
   "source": [
    "def med_lookup(med_name: str, med_mapping: list[dict]) -> str:\n",
    "    for med_record in med_mapping:\n",
    "#         print(med_record)\n",
    "        med_id = med_record.get(med_name)\n",
    "        if med_id is not None:\n",
    "            return med_id\n",
    "        else:\n",
    "            pass\n",
    "        \n",
    "    return 'N/A'\n",
    "    "
   ]
  },
  {
   "cell_type": "code",
   "execution_count": 38,
   "metadata": {},
   "outputs": [
    {
     "data": {
      "text/plain": [
       "7"
      ]
     },
     "execution_count": 38,
     "metadata": {},
     "output_type": "execute_result"
    }
   ],
   "source": [
    "med_lookup('glimepiride-pioglitazone', med_mapping)"
   ]
  },
  {
   "cell_type": "code",
   "execution_count": 41,
   "metadata": {},
   "outputs": [
    {
     "data": {
      "text/plain": [
       "['admission_id',\n",
       " 'acarbose',\n",
       " 'acetohexamide',\n",
       " 'chlorpropamide',\n",
       " 'citoglipton',\n",
       " 'examide',\n",
       " 'glimepiride',\n",
       " 'glimepiride-pioglitazone',\n",
       " 'glipizide',\n",
       " 'glipizide-metformin',\n",
       " 'glyburide',\n",
       " 'glyburide-metformin',\n",
       " 'insulin',\n",
       " 'metformin',\n",
       " 'metformin-pioglitazone',\n",
       " 'metformin-rosiglitazone',\n",
       " 'miglitol',\n",
       " 'nateglinide',\n",
       " 'pioglitazone',\n",
       " 'repaglinide',\n",
       " 'rosiglitazone',\n",
       " 'tolazamide',\n",
       " 'tolbutamide',\n",
       " 'troglitazone']"
      ]
     },
     "execution_count": 41,
     "metadata": {},
     "output_type": "execute_result"
    }
   ],
   "source": [
    "['admission_id']+medications"
   ]
  },
  {
   "cell_type": "code",
   "execution_count": 170,
   "metadata": {},
   "outputs": [],
   "source": [
    "def build_med_change_dict(record: pd.Series, med_dict: list[dict]) -> list[dict]:\n",
    "    cols = ['admission_id']+medications\n",
    "    record_dict = record.to_dict()\n",
    "    meds_change_records = []\n",
    "    for med in medications:\n",
    "#         record_id += 1\n",
    "        encounter_id = record_dict['admission_id']\n",
    "        medication_id = list(med_lookup(med, med_dict).values())[0]\n",
    "        change_status = record[med]\n",
    "        meds_change_records.append({'admission_id': encounter_id, 'medication_id': medication_id, 'change_status': change_status})\n",
    "\n",
    "    return meds_change_records"
   ]
  },
  {
   "cell_type": "code",
   "execution_count": 171,
   "metadata": {},
   "outputs": [
    {
     "data": {
      "text/plain": [
       "[{'admission_id': 16680, 'medication_id': 1, 'change_status': 'No'},\n",
       " {'admission_id': 16680, 'medication_id': 2, 'change_status': 'No'},\n",
       " {'admission_id': 16680, 'medication_id': 3, 'change_status': 'No'},\n",
       " {'admission_id': 16680, 'medication_id': 4, 'change_status': 'No'},\n",
       " {'admission_id': 16680, 'medication_id': 5, 'change_status': 'No'},\n",
       " {'admission_id': 16680, 'medication_id': 6, 'change_status': 'No'},\n",
       " {'admission_id': 16680, 'medication_id': 7, 'change_status': 'No'},\n",
       " {'admission_id': 16680, 'medication_id': 8, 'change_status': 'Steady'},\n",
       " {'admission_id': 16680, 'medication_id': 9, 'change_status': 'No'},\n",
       " {'admission_id': 16680, 'medication_id': 10, 'change_status': 'No'},\n",
       " {'admission_id': 16680, 'medication_id': 11, 'change_status': 'No'},\n",
       " {'admission_id': 16680, 'medication_id': 12, 'change_status': 'Steady'},\n",
       " {'admission_id': 16680, 'medication_id': 13, 'change_status': 'No'},\n",
       " {'admission_id': 16680, 'medication_id': 14, 'change_status': 'No'},\n",
       " {'admission_id': 16680, 'medication_id': 15, 'change_status': 'No'},\n",
       " {'admission_id': 16680, 'medication_id': 16, 'change_status': 'No'},\n",
       " {'admission_id': 16680, 'medication_id': 17, 'change_status': 'No'},\n",
       " {'admission_id': 16680, 'medication_id': 18, 'change_status': 'No'},\n",
       " {'admission_id': 16680, 'medication_id': 19, 'change_status': 'No'},\n",
       " {'admission_id': 16680, 'medication_id': 20, 'change_status': 'No'},\n",
       " {'admission_id': 16680, 'medication_id': 21, 'change_status': 'No'},\n",
       " {'admission_id': 16680, 'medication_id': 22, 'change_status': 'No'},\n",
       " {'admission_id': 16680, 'medication_id': 23, 'change_status': 'No'}]"
      ]
     },
     "execution_count": 171,
     "metadata": {},
     "output_type": "execute_result"
    }
   ],
   "source": [
    "list(build_med_change_dict(diabetic_data.iloc[4], medication_dict))"
   ]
  },
  {
   "cell_type": "code",
   "execution_count": 152,
   "metadata": {
    "scrolled": false
   },
   "outputs": [
    {
     "data": {
      "text/html": [
       "<div>\n",
       "<style scoped>\n",
       "    .dataframe tbody tr th:only-of-type {\n",
       "        vertical-align: middle;\n",
       "    }\n",
       "\n",
       "    .dataframe tbody tr th {\n",
       "        vertical-align: top;\n",
       "    }\n",
       "\n",
       "    .dataframe thead th {\n",
       "        text-align: right;\n",
       "    }\n",
       "</style>\n",
       "<table border=\"1\" class=\"dataframe\">\n",
       "  <thead>\n",
       "    <tr style=\"text-align: right;\">\n",
       "      <th></th>\n",
       "      <th>admission_id</th>\n",
       "      <th>medication_id</th>\n",
       "      <th>change_status</th>\n",
       "    </tr>\n",
       "  </thead>\n",
       "  <tbody>\n",
       "    <tr>\n",
       "      <th>0</th>\n",
       "      <td>16680</td>\n",
       "      <td>1</td>\n",
       "      <td>No</td>\n",
       "    </tr>\n",
       "    <tr>\n",
       "      <th>1</th>\n",
       "      <td>16680</td>\n",
       "      <td>2</td>\n",
       "      <td>No</td>\n",
       "    </tr>\n",
       "    <tr>\n",
       "      <th>2</th>\n",
       "      <td>16680</td>\n",
       "      <td>3</td>\n",
       "      <td>No</td>\n",
       "    </tr>\n",
       "    <tr>\n",
       "      <th>3</th>\n",
       "      <td>16680</td>\n",
       "      <td>4</td>\n",
       "      <td>No</td>\n",
       "    </tr>\n",
       "    <tr>\n",
       "      <th>4</th>\n",
       "      <td>16680</td>\n",
       "      <td>5</td>\n",
       "      <td>No</td>\n",
       "    </tr>\n",
       "    <tr>\n",
       "      <th>5</th>\n",
       "      <td>16680</td>\n",
       "      <td>6</td>\n",
       "      <td>No</td>\n",
       "    </tr>\n",
       "    <tr>\n",
       "      <th>6</th>\n",
       "      <td>16680</td>\n",
       "      <td>7</td>\n",
       "      <td>No</td>\n",
       "    </tr>\n",
       "    <tr>\n",
       "      <th>7</th>\n",
       "      <td>16680</td>\n",
       "      <td>8</td>\n",
       "      <td>Steady</td>\n",
       "    </tr>\n",
       "    <tr>\n",
       "      <th>8</th>\n",
       "      <td>16680</td>\n",
       "      <td>9</td>\n",
       "      <td>No</td>\n",
       "    </tr>\n",
       "    <tr>\n",
       "      <th>9</th>\n",
       "      <td>16680</td>\n",
       "      <td>10</td>\n",
       "      <td>No</td>\n",
       "    </tr>\n",
       "    <tr>\n",
       "      <th>10</th>\n",
       "      <td>16680</td>\n",
       "      <td>11</td>\n",
       "      <td>No</td>\n",
       "    </tr>\n",
       "    <tr>\n",
       "      <th>11</th>\n",
       "      <td>16680</td>\n",
       "      <td>12</td>\n",
       "      <td>Steady</td>\n",
       "    </tr>\n",
       "    <tr>\n",
       "      <th>12</th>\n",
       "      <td>16680</td>\n",
       "      <td>13</td>\n",
       "      <td>No</td>\n",
       "    </tr>\n",
       "    <tr>\n",
       "      <th>13</th>\n",
       "      <td>16680</td>\n",
       "      <td>14</td>\n",
       "      <td>No</td>\n",
       "    </tr>\n",
       "    <tr>\n",
       "      <th>14</th>\n",
       "      <td>16680</td>\n",
       "      <td>15</td>\n",
       "      <td>No</td>\n",
       "    </tr>\n",
       "    <tr>\n",
       "      <th>15</th>\n",
       "      <td>16680</td>\n",
       "      <td>16</td>\n",
       "      <td>No</td>\n",
       "    </tr>\n",
       "    <tr>\n",
       "      <th>16</th>\n",
       "      <td>16680</td>\n",
       "      <td>17</td>\n",
       "      <td>No</td>\n",
       "    </tr>\n",
       "    <tr>\n",
       "      <th>17</th>\n",
       "      <td>16680</td>\n",
       "      <td>18</td>\n",
       "      <td>No</td>\n",
       "    </tr>\n",
       "    <tr>\n",
       "      <th>18</th>\n",
       "      <td>16680</td>\n",
       "      <td>19</td>\n",
       "      <td>No</td>\n",
       "    </tr>\n",
       "    <tr>\n",
       "      <th>19</th>\n",
       "      <td>16680</td>\n",
       "      <td>20</td>\n",
       "      <td>No</td>\n",
       "    </tr>\n",
       "    <tr>\n",
       "      <th>20</th>\n",
       "      <td>16680</td>\n",
       "      <td>21</td>\n",
       "      <td>No</td>\n",
       "    </tr>\n",
       "    <tr>\n",
       "      <th>21</th>\n",
       "      <td>16680</td>\n",
       "      <td>22</td>\n",
       "      <td>No</td>\n",
       "    </tr>\n",
       "    <tr>\n",
       "      <th>22</th>\n",
       "      <td>16680</td>\n",
       "      <td>23</td>\n",
       "      <td>No</td>\n",
       "    </tr>\n",
       "  </tbody>\n",
       "</table>\n",
       "</div>"
      ],
      "text/plain": [
       "    admission_id  medication_id change_status\n",
       "0          16680              1            No\n",
       "1          16680              2            No\n",
       "2          16680              3            No\n",
       "3          16680              4            No\n",
       "4          16680              5            No\n",
       "5          16680              6            No\n",
       "6          16680              7            No\n",
       "7          16680              8        Steady\n",
       "8          16680              9            No\n",
       "9          16680             10            No\n",
       "10         16680             11            No\n",
       "11         16680             12        Steady\n",
       "12         16680             13            No\n",
       "13         16680             14            No\n",
       "14         16680             15            No\n",
       "15         16680             16            No\n",
       "16         16680             17            No\n",
       "17         16680             18            No\n",
       "18         16680             19            No\n",
       "19         16680             20            No\n",
       "20         16680             21            No\n",
       "21         16680             22            No\n",
       "22         16680             23            No"
      ]
     },
     "execution_count": 152,
     "metadata": {},
     "output_type": "execute_result"
    }
   ],
   "source": [
    "pd.DataFrame(build_med_change_dict(diabetic_data.iloc[4], medication_dict))"
   ]
  },
  {
   "cell_type": "markdown",
   "metadata": {},
   "source": [
    "# Medication Part 2 "
   ]
  },
  {
   "cell_type": "code",
   "execution_count": 60,
   "metadata": {},
   "outputs": [],
   "source": [
    "from pyspark.sql import SparkSession\n",
    "from pyspark.sql.functions import pandas_udf, explode\n",
    "from pyspark.sql.types import StructType, StructField, IntegerType, StringType, ArrayType"
   ]
  },
  {
   "cell_type": "code",
   "execution_count": 40,
   "metadata": {},
   "outputs": [
    {
     "name": "stderr",
     "output_type": "stream",
     "text": [
      "                                                                                \r"
     ]
    }
   ],
   "source": [
    "diabetic_data_spark = spark.read.csv('diabetic_data.csv', header=True, inferSchema=True)"
   ]
  },
  {
   "cell_type": "code",
   "execution_count": 46,
   "metadata": {},
   "outputs": [
    {
     "data": {
      "text/plain": [
       "['acarbose', 'acetohexamide', 'chlorpropamide', 'citoglipton', 'examide']"
      ]
     },
     "execution_count": 46,
     "metadata": {},
     "output_type": "execute_result"
    }
   ],
   "source": [
    "medications[:5]"
   ]
  },
  {
   "cell_type": "code",
   "execution_count": 45,
   "metadata": {},
   "outputs": [
    {
     "data": {
      "text/plain": [
       "[{'acarbose': 1},\n",
       " {'acetohexamide': 2},\n",
       " {'chlorpropamide': 3},\n",
       " {'citoglipton': 4},\n",
       " {'examide': 5}]"
      ]
     },
     "execution_count": 45,
     "metadata": {},
     "output_type": "execute_result"
    }
   ],
   "source": [
    "med_mapping[:5]"
   ]
  },
  {
   "cell_type": "code",
   "execution_count": 48,
   "metadata": {},
   "outputs": [],
   "source": [
    "diabetic_data_spark = diabetic_data_spark.withColumnRenamed('encounter_id', 'admission_id')"
   ]
  },
  {
   "cell_type": "code",
   "execution_count": 51,
   "metadata": {},
   "outputs": [],
   "source": [
    "medication_columns = ['admission_id']+medications"
   ]
  },
  {
   "cell_type": "code",
   "execution_count": 70,
   "metadata": {},
   "outputs": [],
   "source": [
    "# Define a user-defined function (UDF) to process each row\n",
    "def build_med_change_dict(*cols):\n",
    "    result = []\n",
    "    admission_id = cols[0]\n",
    "    for med_name, change_status in zip(medication_columns, cols[1:]):\n",
    "        medication_id = med_lookup(med_name, med_mapping)\n",
    "        result.append((admission_id, medication_id, change_status))\n",
    "    return result\n",
    "\n"
   ]
  },
  {
   "cell_type": "code",
   "execution_count": 71,
   "metadata": {},
   "outputs": [
    {
     "name": "stderr",
     "output_type": "stream",
     "text": [
      "23/12/22 14:57:07 WARN SimpleFunctionRegistry: The function build_med_change_dict replaced a previously registered function.\n"
     ]
    }
   ],
   "source": [
    "# Register the UDF\n",
    "build_med_change_dict_udf = spark.udf.register(\"build_med_change_dict\", build_med_change_dict, ArrayType(StructType([\n",
    "    StructField(\"admission_id\", StringType(), True),\n",
    "    StructField(\"medication_id\", StringType(), True),\n",
    "    StructField(\"change_status\", StringType(), True),\n",
    "])))"
   ]
  },
  {
   "cell_type": "code",
   "execution_count": 76,
   "metadata": {},
   "outputs": [],
   "source": [
    "medication_data_spark = diabetic_data_spark.select(*medication_columns).withColumn(\"medication_data\", explode(build_med_change_dict_udf(*medication_columns))).selectExpr(\"medication_data.*\")"
   ]
  },
  {
   "cell_type": "code",
   "execution_count": 77,
   "metadata": {},
   "outputs": [
    {
     "name": "stderr",
     "output_type": "stream",
     "text": [
      "                                                                                \r"
     ]
    }
   ],
   "source": [
    "medication_data_spark.write.parquet('medication_change')"
   ]
  },
  {
   "cell_type": "markdown",
   "metadata": {},
   "source": [
    "# Insurance "
   ]
  },
  {
   "cell_type": "code",
   "execution_count": 101,
   "metadata": {},
   "outputs": [],
   "source": [
    "insurance_list = diabetic_data['payer_code'].unique()[1:].tolist()"
   ]
  },
  {
   "cell_type": "code",
   "execution_count": 115,
   "metadata": {},
   "outputs": [],
   "source": [
    "payer_code_mapping = {\n",
    "    'MC': 'Medicare',\n",
    "    'MD': 'Medicaid',\n",
    "    'HM': 'Health Maintenance Organization (HMO)',\n",
    "    'UN': 'Unknown',\n",
    "    'BC': 'Blue Cross Blue Shield',\n",
    "    'SP': 'Self Pay',\n",
    "    'CP': 'Commercial Payer',\n",
    "    'SI': 'Medicare Advantage',\n",
    "    'DM': 'Disease Management',\n",
    "    'CM': 'Case Management',\n",
    "    'CH': 'Children\\'s Health Insurance Program (CHIP)',\n",
    "    'PO': 'Point of Service',\n",
    "    'WC': 'Workers Compensation',\n",
    "    'OT': 'Other',\n",
    "    'OG': 'Other Government',\n",
    "    'MP': 'Medicare Part D',\n",
    "    'FR': 'Federal Employee Program'\n",
    "}"
   ]
  },
  {
   "cell_type": "code",
   "execution_count": 122,
   "metadata": {},
   "outputs": [
    {
     "data": {
      "text/plain": [
       "{'insurances': {'MC': 'Medicare',\n",
       "  'MD': 'Medicaid',\n",
       "  'HM': 'Health Maintenance Organization (HMO)',\n",
       "  'UN': 'Unknown',\n",
       "  'BC': 'Blue Cross Blue Shield',\n",
       "  'SP': 'Self Pay',\n",
       "  'CP': 'Commercial Payer',\n",
       "  'SI': 'Medicare Advantage',\n",
       "  'DM': 'Disease Management',\n",
       "  'CM': 'Case Management',\n",
       "  'CH': \"Children's Health Insurance Program (CHIP)\",\n",
       "  'PO': 'Point of Service',\n",
       "  'WC': 'Workers Compensation',\n",
       "  'OT': 'Other',\n",
       "  'OG': 'Other Government',\n",
       "  'MP': 'Medicare Part D',\n",
       "  'FR': 'Federal Employee Program'}}"
      ]
     },
     "execution_count": 122,
     "metadata": {},
     "output_type": "execute_result"
    }
   ],
   "source": []
  },
  {
   "cell_type": "code",
   "execution_count": 102,
   "metadata": {},
   "outputs": [],
   "source": [
    "ids = [x+1 for x in range(len(insurance_list))]"
   ]
  },
  {
   "cell_type": "code",
   "execution_count": 110,
   "metadata": {},
   "outputs": [],
   "source": [
    "insurance_dict = dict(zip(ids, insurance_list))"
   ]
  },
  {
   "cell_type": "code",
   "execution_count": 116,
   "metadata": {},
   "outputs": [],
   "source": [
    "insurance_list_dict = [{'id': k, 'insurance_cd': v, 'insurance_name': payer_code_mapping[v]} for k,v in insurance_dict.items()]"
   ]
  },
  {
   "cell_type": "code",
   "execution_count": 117,
   "metadata": {},
   "outputs": [
    {
     "data": {
      "text/plain": [
       "[{'id': 1, 'insurance_cd': 'MC', 'insurance_name': 'Medicare'},\n",
       " {'id': 2, 'insurance_cd': 'MD', 'insurance_name': 'Medicaid'},\n",
       " {'id': 3,\n",
       "  'insurance_cd': 'HM',\n",
       "  'insurance_name': 'Health Maintenance Organization (HMO)'},\n",
       " {'id': 4, 'insurance_cd': 'UN', 'insurance_name': 'Unknown'},\n",
       " {'id': 5, 'insurance_cd': 'BC', 'insurance_name': 'Blue Cross Blue Shield'},\n",
       " {'id': 6, 'insurance_cd': 'SP', 'insurance_name': 'Self Pay'},\n",
       " {'id': 7, 'insurance_cd': 'CP', 'insurance_name': 'Commercial Payer'},\n",
       " {'id': 8, 'insurance_cd': 'SI', 'insurance_name': 'Medicare Advantage'},\n",
       " {'id': 9, 'insurance_cd': 'DM', 'insurance_name': 'Disease Management'},\n",
       " {'id': 10, 'insurance_cd': 'CM', 'insurance_name': 'Case Management'},\n",
       " {'id': 11,\n",
       "  'insurance_cd': 'CH',\n",
       "  'insurance_name': \"Children's Health Insurance Program (CHIP)\"},\n",
       " {'id': 12, 'insurance_cd': 'PO', 'insurance_name': 'Point of Service'},\n",
       " {'id': 13, 'insurance_cd': 'WC', 'insurance_name': 'Workers Compensation'},\n",
       " {'id': 14, 'insurance_cd': 'OT', 'insurance_name': 'Other'},\n",
       " {'id': 15, 'insurance_cd': 'OG', 'insurance_name': 'Other Government'},\n",
       " {'id': 16, 'insurance_cd': 'MP', 'insurance_name': 'Medicare Part D'},\n",
       " {'id': 17,\n",
       "  'insurance_cd': 'FR',\n",
       "  'insurance_name': 'Federal Employee Program'}]"
      ]
     },
     "execution_count": 117,
     "metadata": {},
     "output_type": "execute_result"
    }
   ],
   "source": [
    "insurance_list_dict"
   ]
  },
  {
   "cell_type": "code",
   "execution_count": 120,
   "metadata": {},
   "outputs": [],
   "source": [
    "schema = StructType([\n",
    "    StructField('id', IntegerType(), False),\n",
    "    StructField('insurance_cd', StringType(), False),\n",
    "    StructField('insurance_name', StringType(), False)\n",
    "])\n",
    "\n",
    "rows = [Row(**item) for item in insurance_list_dict]"
   ]
  },
  {
   "cell_type": "code",
   "execution_count": 121,
   "metadata": {},
   "outputs": [],
   "source": [
    "insurance_df_spark = spark.createDataFrame(rows, schema)"
   ]
  },
  {
   "cell_type": "code",
   "execution_count": 123,
   "metadata": {},
   "outputs": [
    {
     "name": "stderr",
     "output_type": "stream",
     "text": [
      "                                                                                \r"
     ]
    }
   ],
   "source": [
    "insurance_df_spark.write.parquet('insurance')"
   ]
  },
  {
   "cell_type": "code",
   "execution_count": 128,
   "metadata": {},
   "outputs": [],
   "source": [
    "insurance_payor_json_file = {'insurances': payer_code_mapping }"
   ]
  },
  {
   "cell_type": "code",
   "execution_count": 125,
   "metadata": {},
   "outputs": [],
   "source": [
    "file_path = 'payer_code_mapping.json'"
   ]
  },
  {
   "cell_type": "code",
   "execution_count": 126,
   "metadata": {},
   "outputs": [],
   "source": [
    "import json"
   ]
  },
  {
   "cell_type": "code",
   "execution_count": 129,
   "metadata": {},
   "outputs": [],
   "source": [
    "with open(file_path, 'w') as json_file:\n",
    "    json.dump(insurance_payor_json_file, json_file)"
   ]
  },
  {
   "cell_type": "markdown",
   "metadata": {},
   "source": [
    "# IDS mapping "
   ]
  },
  {
   "cell_type": "code",
   "execution_count": 147,
   "metadata": {},
   "outputs": [],
   "source": [
    "# Read the CSV file into a pandas DataFrame\n",
    "df = pd.read_csv('IDS_mapping.csv', header=None, skip_blank_lines=False, keep_default_na=False)\n",
    "\n",
    "# Identify line breakers (',') in the DataFrame\n",
    "line_breakers = df[df[0] == \"\"].index.tolist()"
   ]
  },
  {
   "cell_type": "code",
   "execution_count": 148,
   "metadata": {},
   "outputs": [
    {
     "data": {
      "text/plain": [
       "[9, 41]"
      ]
     },
     "execution_count": 148,
     "metadata": {},
     "output_type": "execute_result"
    }
   ],
   "source": [
    "line_breakers"
   ]
  },
  {
   "cell_type": "code",
   "execution_count": 158,
   "metadata": {},
   "outputs": [],
   "source": [
    "# Separate the DataFrames based on line breakers (',')\n",
    "df1 = df.iloc[:line_breakers[0], :].dropna(axis=1)\n"
   ]
  },
  {
   "cell_type": "code",
   "execution_count": 159,
   "metadata": {},
   "outputs": [],
   "source": [
    "df2 = df.iloc[line_breakers[0]+1:line_breakers[1], :].dropna(axis=1)\n",
    "df3 = df.iloc[line_breakers[1]+1:, :].dropna(axis=1)"
   ]
  },
  {
   "cell_type": "code",
   "execution_count": 160,
   "metadata": {},
   "outputs": [
    {
     "data": {
      "text/html": [
       "<div>\n",
       "<style scoped>\n",
       "    .dataframe tbody tr th:only-of-type {\n",
       "        vertical-align: middle;\n",
       "    }\n",
       "\n",
       "    .dataframe tbody tr th {\n",
       "        vertical-align: top;\n",
       "    }\n",
       "\n",
       "    .dataframe thead th {\n",
       "        text-align: right;\n",
       "    }\n",
       "</style>\n",
       "<table border=\"1\" class=\"dataframe\">\n",
       "  <thead>\n",
       "    <tr style=\"text-align: right;\">\n",
       "      <th></th>\n",
       "      <th>0</th>\n",
       "      <th>1</th>\n",
       "    </tr>\n",
       "  </thead>\n",
       "  <tbody>\n",
       "    <tr>\n",
       "      <th>0</th>\n",
       "      <td>admission_type_id</td>\n",
       "      <td>description</td>\n",
       "    </tr>\n",
       "    <tr>\n",
       "      <th>1</th>\n",
       "      <td>1</td>\n",
       "      <td>Emergency</td>\n",
       "    </tr>\n",
       "    <tr>\n",
       "      <th>2</th>\n",
       "      <td>2</td>\n",
       "      <td>Urgent</td>\n",
       "    </tr>\n",
       "    <tr>\n",
       "      <th>3</th>\n",
       "      <td>3</td>\n",
       "      <td>Elective</td>\n",
       "    </tr>\n",
       "    <tr>\n",
       "      <th>4</th>\n",
       "      <td>4</td>\n",
       "      <td>Newborn</td>\n",
       "    </tr>\n",
       "    <tr>\n",
       "      <th>5</th>\n",
       "      <td>5</td>\n",
       "      <td>Not Available</td>\n",
       "    </tr>\n",
       "    <tr>\n",
       "      <th>6</th>\n",
       "      <td>6</td>\n",
       "      <td>NULL</td>\n",
       "    </tr>\n",
       "    <tr>\n",
       "      <th>7</th>\n",
       "      <td>7</td>\n",
       "      <td>Trauma Center</td>\n",
       "    </tr>\n",
       "    <tr>\n",
       "      <th>8</th>\n",
       "      <td>8</td>\n",
       "      <td>Not Mapped</td>\n",
       "    </tr>\n",
       "  </tbody>\n",
       "</table>\n",
       "</div>"
      ],
      "text/plain": [
       "                   0              1\n",
       "0  admission_type_id    description\n",
       "1                  1      Emergency\n",
       "2                  2         Urgent\n",
       "3                  3       Elective\n",
       "4                  4        Newborn\n",
       "5                  5  Not Available\n",
       "6                  6           NULL\n",
       "7                  7  Trauma Center\n",
       "8                  8     Not Mapped"
      ]
     },
     "execution_count": 160,
     "metadata": {},
     "output_type": "execute_result"
    }
   ],
   "source": [
    "df1"
   ]
  },
  {
   "cell_type": "code",
   "execution_count": 161,
   "metadata": {},
   "outputs": [],
   "source": [
    "# Use the first row as headers\n",
    "df1.columns = df1.iloc[0]\n",
    "df2.columns = df2.iloc[0]\n",
    "df3.columns = df3.iloc[0]\n",
    "\n",
    "# Drop the first row after using it as headers\n",
    "df1 = df1.iloc[1:]\n",
    "df2 = df2.iloc[1:]\n",
    "df3 = df3.iloc[1:]"
   ]
  },
  {
   "cell_type": "code",
   "execution_count": 162,
   "metadata": {},
   "outputs": [
    {
     "data": {
      "text/html": [
       "<div>\n",
       "<style scoped>\n",
       "    .dataframe tbody tr th:only-of-type {\n",
       "        vertical-align: middle;\n",
       "    }\n",
       "\n",
       "    .dataframe tbody tr th {\n",
       "        vertical-align: top;\n",
       "    }\n",
       "\n",
       "    .dataframe thead th {\n",
       "        text-align: right;\n",
       "    }\n",
       "</style>\n",
       "<table border=\"1\" class=\"dataframe\">\n",
       "  <thead>\n",
       "    <tr style=\"text-align: right;\">\n",
       "      <th></th>\n",
       "      <th>admission_type_id</th>\n",
       "      <th>description</th>\n",
       "    </tr>\n",
       "  </thead>\n",
       "  <tbody>\n",
       "    <tr>\n",
       "      <th>1</th>\n",
       "      <td>1</td>\n",
       "      <td>Emergency</td>\n",
       "    </tr>\n",
       "    <tr>\n",
       "      <th>2</th>\n",
       "      <td>2</td>\n",
       "      <td>Urgent</td>\n",
       "    </tr>\n",
       "    <tr>\n",
       "      <th>3</th>\n",
       "      <td>3</td>\n",
       "      <td>Elective</td>\n",
       "    </tr>\n",
       "    <tr>\n",
       "      <th>4</th>\n",
       "      <td>4</td>\n",
       "      <td>Newborn</td>\n",
       "    </tr>\n",
       "    <tr>\n",
       "      <th>5</th>\n",
       "      <td>5</td>\n",
       "      <td>Not Available</td>\n",
       "    </tr>\n",
       "    <tr>\n",
       "      <th>6</th>\n",
       "      <td>6</td>\n",
       "      <td>NULL</td>\n",
       "    </tr>\n",
       "    <tr>\n",
       "      <th>7</th>\n",
       "      <td>7</td>\n",
       "      <td>Trauma Center</td>\n",
       "    </tr>\n",
       "    <tr>\n",
       "      <th>8</th>\n",
       "      <td>8</td>\n",
       "      <td>Not Mapped</td>\n",
       "    </tr>\n",
       "  </tbody>\n",
       "</table>\n",
       "</div>"
      ],
      "text/plain": [
       "0 admission_type_id    description\n",
       "1                 1      Emergency\n",
       "2                 2         Urgent\n",
       "3                 3       Elective\n",
       "4                 4        Newborn\n",
       "5                 5  Not Available\n",
       "6                 6           NULL\n",
       "7                 7  Trauma Center\n",
       "8                 8     Not Mapped"
      ]
     },
     "execution_count": 162,
     "metadata": {},
     "output_type": "execute_result"
    }
   ],
   "source": [
    "df1"
   ]
  },
  {
   "cell_type": "code",
   "execution_count": 170,
   "metadata": {},
   "outputs": [],
   "source": [
    "df2 = df2.reset_index(drop=True)"
   ]
  },
  {
   "cell_type": "code",
   "execution_count": 172,
   "metadata": {},
   "outputs": [],
   "source": [
    "df3 = df3.reset_index(drop=True)"
   ]
  },
  {
   "cell_type": "code",
   "execution_count": 173,
   "metadata": {},
   "outputs": [
    {
     "data": {
      "text/html": [
       "<div>\n",
       "<style scoped>\n",
       "    .dataframe tbody tr th:only-of-type {\n",
       "        vertical-align: middle;\n",
       "    }\n",
       "\n",
       "    .dataframe tbody tr th {\n",
       "        vertical-align: top;\n",
       "    }\n",
       "\n",
       "    .dataframe thead th {\n",
       "        text-align: right;\n",
       "    }\n",
       "</style>\n",
       "<table border=\"1\" class=\"dataframe\">\n",
       "  <thead>\n",
       "    <tr style=\"text-align: right;\">\n",
       "      <th>42</th>\n",
       "      <th>admission_source_id</th>\n",
       "      <th>description</th>\n",
       "    </tr>\n",
       "  </thead>\n",
       "  <tbody>\n",
       "    <tr>\n",
       "      <th>0</th>\n",
       "      <td>1</td>\n",
       "      <td>Physician Referral</td>\n",
       "    </tr>\n",
       "    <tr>\n",
       "      <th>1</th>\n",
       "      <td>2</td>\n",
       "      <td>Clinic Referral</td>\n",
       "    </tr>\n",
       "    <tr>\n",
       "      <th>2</th>\n",
       "      <td>3</td>\n",
       "      <td>HMO Referral</td>\n",
       "    </tr>\n",
       "    <tr>\n",
       "      <th>3</th>\n",
       "      <td>4</td>\n",
       "      <td>Transfer from a hospital</td>\n",
       "    </tr>\n",
       "    <tr>\n",
       "      <th>4</th>\n",
       "      <td>5</td>\n",
       "      <td>Transfer from a Skilled Nursing Facility (SNF)</td>\n",
       "    </tr>\n",
       "    <tr>\n",
       "      <th>5</th>\n",
       "      <td>6</td>\n",
       "      <td>Transfer from another health care facility</td>\n",
       "    </tr>\n",
       "    <tr>\n",
       "      <th>6</th>\n",
       "      <td>7</td>\n",
       "      <td>Emergency Room</td>\n",
       "    </tr>\n",
       "    <tr>\n",
       "      <th>7</th>\n",
       "      <td>8</td>\n",
       "      <td>Court/Law Enforcement</td>\n",
       "    </tr>\n",
       "    <tr>\n",
       "      <th>8</th>\n",
       "      <td>9</td>\n",
       "      <td>Not Available</td>\n",
       "    </tr>\n",
       "    <tr>\n",
       "      <th>9</th>\n",
       "      <td>10</td>\n",
       "      <td>Transfer from critial access hospital</td>\n",
       "    </tr>\n",
       "    <tr>\n",
       "      <th>10</th>\n",
       "      <td>11</td>\n",
       "      <td>Normal Delivery</td>\n",
       "    </tr>\n",
       "    <tr>\n",
       "      <th>11</th>\n",
       "      <td>12</td>\n",
       "      <td>Premature Delivery</td>\n",
       "    </tr>\n",
       "    <tr>\n",
       "      <th>12</th>\n",
       "      <td>13</td>\n",
       "      <td>Sick Baby</td>\n",
       "    </tr>\n",
       "    <tr>\n",
       "      <th>13</th>\n",
       "      <td>14</td>\n",
       "      <td>Extramural Birth</td>\n",
       "    </tr>\n",
       "    <tr>\n",
       "      <th>14</th>\n",
       "      <td>15</td>\n",
       "      <td>Not Available</td>\n",
       "    </tr>\n",
       "    <tr>\n",
       "      <th>15</th>\n",
       "      <td>17</td>\n",
       "      <td>NULL</td>\n",
       "    </tr>\n",
       "    <tr>\n",
       "      <th>16</th>\n",
       "      <td>18</td>\n",
       "      <td>Transfer From Another Home Health Agency</td>\n",
       "    </tr>\n",
       "    <tr>\n",
       "      <th>17</th>\n",
       "      <td>19</td>\n",
       "      <td>Readmission to Same Home Health Agency</td>\n",
       "    </tr>\n",
       "    <tr>\n",
       "      <th>18</th>\n",
       "      <td>20</td>\n",
       "      <td>Not Mapped</td>\n",
       "    </tr>\n",
       "    <tr>\n",
       "      <th>19</th>\n",
       "      <td>21</td>\n",
       "      <td>Unknown/Invalid</td>\n",
       "    </tr>\n",
       "    <tr>\n",
       "      <th>20</th>\n",
       "      <td>22</td>\n",
       "      <td>Transfer from hospital inpt/same fac reslt in...</td>\n",
       "    </tr>\n",
       "    <tr>\n",
       "      <th>21</th>\n",
       "      <td>23</td>\n",
       "      <td>Born inside this hospital</td>\n",
       "    </tr>\n",
       "    <tr>\n",
       "      <th>22</th>\n",
       "      <td>24</td>\n",
       "      <td>Born outside this hospital</td>\n",
       "    </tr>\n",
       "    <tr>\n",
       "      <th>23</th>\n",
       "      <td>25</td>\n",
       "      <td>Transfer from Ambulatory Surgery Center</td>\n",
       "    </tr>\n",
       "    <tr>\n",
       "      <th>24</th>\n",
       "      <td>26</td>\n",
       "      <td>Transfer from Hospice</td>\n",
       "    </tr>\n",
       "  </tbody>\n",
       "</table>\n",
       "</div>"
      ],
      "text/plain": [
       "42 admission_source_id                                        description\n",
       "0                    1                                 Physician Referral\n",
       "1                    2                                    Clinic Referral\n",
       "2                    3                                       HMO Referral\n",
       "3                    4                           Transfer from a hospital\n",
       "4                    5     Transfer from a Skilled Nursing Facility (SNF)\n",
       "5                    6         Transfer from another health care facility\n",
       "6                    7                                     Emergency Room\n",
       "7                    8                              Court/Law Enforcement\n",
       "8                    9                                      Not Available\n",
       "9                   10              Transfer from critial access hospital\n",
       "10                  11                                    Normal Delivery\n",
       "11                  12                                 Premature Delivery\n",
       "12                  13                                          Sick Baby\n",
       "13                  14                                   Extramural Birth\n",
       "14                  15                                      Not Available\n",
       "15                  17                                               NULL\n",
       "16                  18           Transfer From Another Home Health Agency\n",
       "17                  19             Readmission to Same Home Health Agency\n",
       "18                  20                                         Not Mapped\n",
       "19                  21                                    Unknown/Invalid\n",
       "20                  22   Transfer from hospital inpt/same fac reslt in...\n",
       "21                  23                          Born inside this hospital\n",
       "22                  24                         Born outside this hospital\n",
       "23                  25            Transfer from Ambulatory Surgery Center\n",
       "24                  26                              Transfer from Hospice"
      ]
     },
     "execution_count": 173,
     "metadata": {},
     "output_type": "execute_result"
    }
   ],
   "source": [
    "df3"
   ]
  },
  {
   "cell_type": "code",
   "execution_count": 175,
   "metadata": {},
   "outputs": [],
   "source": [
    "df1.to_csv('admission_type_id.csv', index=False)"
   ]
  },
  {
   "cell_type": "code",
   "execution_count": 177,
   "metadata": {},
   "outputs": [],
   "source": [
    "df2.to_csv('discharge_disposition_id.csv', index=False)"
   ]
  },
  {
   "cell_type": "code",
   "execution_count": 179,
   "metadata": {},
   "outputs": [],
   "source": [
    "df3.to_csv('admission_source_id.csv', index=False)"
   ]
  },
  {
   "cell_type": "code",
   "execution_count": 187,
   "metadata": {},
   "outputs": [
    {
     "name": "stderr",
     "output_type": "stream",
     "text": [
      "                                                                                \r"
     ]
    }
   ],
   "source": [
    "spark.createDataFrame(df1).write.parquet('admission_type')\n",
    "spark.createDataFrame(df2).write.parquet('discharge_disposition')\n",
    "spark.createDataFrame(df3).write.parquet('admission_source')"
   ]
  },
  {
   "cell_type": "markdown",
   "metadata": {},
   "source": [
    "# Diagnosis "
   ]
  },
  {
   "cell_type": "code",
   "execution_count": 180,
   "metadata": {},
   "outputs": [
    {
     "data": {
      "text/html": [
       "<div>\n",
       "<style scoped>\n",
       "    .dataframe tbody tr th:only-of-type {\n",
       "        vertical-align: middle;\n",
       "    }\n",
       "\n",
       "    .dataframe tbody tr th {\n",
       "        vertical-align: top;\n",
       "    }\n",
       "\n",
       "    .dataframe thead th {\n",
       "        text-align: right;\n",
       "    }\n",
       "</style>\n",
       "<table border=\"1\" class=\"dataframe\">\n",
       "  <thead>\n",
       "    <tr style=\"text-align: right;\">\n",
       "      <th></th>\n",
       "      <th>diag_1</th>\n",
       "      <th>diag_2</th>\n",
       "      <th>diag_3</th>\n",
       "    </tr>\n",
       "  </thead>\n",
       "  <tbody>\n",
       "    <tr>\n",
       "      <th>0</th>\n",
       "      <td>250.83</td>\n",
       "      <td>?</td>\n",
       "      <td>?</td>\n",
       "    </tr>\n",
       "    <tr>\n",
       "      <th>1</th>\n",
       "      <td>276</td>\n",
       "      <td>250.01</td>\n",
       "      <td>255</td>\n",
       "    </tr>\n",
       "    <tr>\n",
       "      <th>2</th>\n",
       "      <td>648</td>\n",
       "      <td>250</td>\n",
       "      <td>V27</td>\n",
       "    </tr>\n",
       "    <tr>\n",
       "      <th>3</th>\n",
       "      <td>8</td>\n",
       "      <td>250.43</td>\n",
       "      <td>403</td>\n",
       "    </tr>\n",
       "    <tr>\n",
       "      <th>4</th>\n",
       "      <td>197</td>\n",
       "      <td>157</td>\n",
       "      <td>250</td>\n",
       "    </tr>\n",
       "    <tr>\n",
       "      <th>...</th>\n",
       "      <td>...</td>\n",
       "      <td>...</td>\n",
       "      <td>...</td>\n",
       "    </tr>\n",
       "    <tr>\n",
       "      <th>101761</th>\n",
       "      <td>250.13</td>\n",
       "      <td>291</td>\n",
       "      <td>458</td>\n",
       "    </tr>\n",
       "    <tr>\n",
       "      <th>101762</th>\n",
       "      <td>560</td>\n",
       "      <td>276</td>\n",
       "      <td>787</td>\n",
       "    </tr>\n",
       "    <tr>\n",
       "      <th>101763</th>\n",
       "      <td>38</td>\n",
       "      <td>590</td>\n",
       "      <td>296</td>\n",
       "    </tr>\n",
       "    <tr>\n",
       "      <th>101764</th>\n",
       "      <td>996</td>\n",
       "      <td>285</td>\n",
       "      <td>998</td>\n",
       "    </tr>\n",
       "    <tr>\n",
       "      <th>101765</th>\n",
       "      <td>530</td>\n",
       "      <td>530</td>\n",
       "      <td>787</td>\n",
       "    </tr>\n",
       "  </tbody>\n",
       "</table>\n",
       "<p>101766 rows × 3 columns</p>\n",
       "</div>"
      ],
      "text/plain": [
       "        diag_1  diag_2 diag_3\n",
       "0       250.83       ?      ?\n",
       "1          276  250.01    255\n",
       "2          648     250    V27\n",
       "3            8  250.43    403\n",
       "4          197     157    250\n",
       "...        ...     ...    ...\n",
       "101761  250.13     291    458\n",
       "101762     560     276    787\n",
       "101763      38     590    296\n",
       "101764     996     285    998\n",
       "101765     530     530    787\n",
       "\n",
       "[101766 rows x 3 columns]"
      ]
     },
     "execution_count": 180,
     "metadata": {},
     "output_type": "execute_result"
    }
   ],
   "source": [
    "diabetic_data[['diag_1', 'diag_2', 'diag_3']]"
   ]
  },
  {
   "cell_type": "code",
   "execution_count": 219,
   "metadata": {},
   "outputs": [],
   "source": [
    "def format_icd9(word: str):\n",
    "    if '.' in str(word):\n",
    "        return str(word).split(\".\")[0].zfill(3) + '.' + str(word).split(\".\")[1]\n",
    "    else:\n",
    "        if word>3:\n",
    "            return word\n",
    "        else:\n",
    "            return str(word).zfill(3)"
   ]
  },
  {
   "cell_type": "code",
   "execution_count": 211,
   "metadata": {},
   "outputs": [],
   "source": [
    "diabetic_data['diag_1'] = diabetic_data['diag_1'].apply(\n",
    "    lambda x: replace_decimal_icd9(x)\n",
    ")\n",
    "diabetic_data['diag_2'] = diabetic_data['diag_2'].apply(\n",
    "    lambda x: replace_decimal_icd9(x)\n",
    ")\n",
    "diabetic_data['diag_3'] = diabetic_data['diag_3'].apply(\n",
    "    lambda x: replace_decimal_icd9(x)\n",
    ")"
   ]
  },
  {
   "cell_type": "code",
   "execution_count": 212,
   "metadata": {},
   "outputs": [],
   "source": [
    "from icd9_codes.icd9 import ICD9"
   ]
  },
  {
   "cell_type": "code",
   "execution_count": 213,
   "metadata": {},
   "outputs": [],
   "source": [
    "tree = ICD9('icd9_codes/codes.json')"
   ]
  },
  {
   "cell_type": "code",
   "execution_count": 214,
   "metadata": {},
   "outputs": [],
   "source": [
    "tree.find(diabetic_data['diag_1'][0])"
   ]
  },
  {
   "cell_type": "code",
   "execution_count": 218,
   "metadata": {},
   "outputs": [],
   "source": [
    "tree.find('250.81')"
   ]
  },
  {
   "cell_type": "code",
   "execution_count": 215,
   "metadata": {},
   "outputs": [
    {
     "data": {
      "text/plain": [
       "'250.83'"
      ]
     },
     "execution_count": 215,
     "metadata": {},
     "output_type": "execute_result"
    }
   ],
   "source": [
    "diabetic_data['diag_1'][0]"
   ]
  },
  {
   "cell_type": "code",
   "execution_count": 220,
   "metadata": {},
   "outputs": [],
   "source": [
    "def get_icd_code(code):\n",
    "    icd_code = tree.find(code)\n",
    "    if icd_code is None:\n",
    "        icd_code = icd_code[len(icd_code)-1:]\n",
    "        if icd_code is None: return None\n",
    "        return icd_code.code\n",
    "    \n",
    "    return icd_code.code"
   ]
  },
  {
   "cell_type": "code",
   "execution_count": 233,
   "metadata": {},
   "outputs": [],
   "source": [
    "def get_icd_description(code):\n",
    "    icd_code = tree.find(code)\n",
    "    if icd_code is None:\n",
    "        code = code[:len(code)-1]\n",
    "        icd_code = tree.find(code)\n",
    "        if icd_code is None: return None\n",
    "        return icd_code.description\n",
    "    \n",
    "    return icd_code.description"
   ]
  },
  {
   "cell_type": "code",
   "execution_count": 226,
   "metadata": {},
   "outputs": [
    {
     "data": {
      "text/plain": [
       "0                                                  None\n",
       "1     Disorders of fluid, electrolyte, and acid-base...\n",
       "2     Other current conditions in the mother classif...\n",
       "3          Intestinal infections due to other organisms\n",
       "4     Secondary malignant neoplasm of respiratory an...\n",
       "5         Other forms of chronic ischemic heart disease\n",
       "6         Other forms of chronic ischemic heart disease\n",
       "7                                         Heart failure\n",
       "8                         Other rheumatic heart disease\n",
       "9                        Occlusion of cerebral arteries\n",
       "10       Diabetes with peripheral circulatory disorders\n",
       "11                       Malignant neoplasm of pancreas\n",
       "12                                        Heart failure\n",
       "13                                        Heart failure\n",
       "14                               Other diseases of lung\n",
       "15    Complications of medical care, not elsewhere c...\n",
       "16                          Acute myocardial infarction\n",
       "17                         Other cellulitis and abscess\n",
       "18                           Hypertensive heart disease\n",
       "19                                   Curvature of spine\n",
       "20                          Acute myocardial infarction\n",
       "21    Liver abscess and sequelae of chronic liver di...\n",
       "22                          Acute myocardial infarction\n",
       "23      Care involving use of rehabilitation procedures\n",
       "24    Malignant neoplasm of kidney and other and uns...\n",
       "25    Symptoms involving respiratory system and othe...\n",
       "26                                 Cardiac dysrhythmias\n",
       "27    Complications peculiar to certain specified pr...\n",
       "28        Other and unspecified disorders of metabolism\n",
       "29                                        Heart failure\n",
       "30                                  Acute renal failure\n",
       "31                                    Acute pharyngitis\n",
       "32    Complications peculiar to certain specified pr...\n",
       "33                                    Chronic sinusitis\n",
       "34                                        Heart failure\n",
       "35    Other acute and subacute forms of ischemic hea...\n",
       "36                  Malignant neoplasm of female breast\n",
       "37                      Pneumonia, organism unspecified\n",
       "38               Other complications of procedures, NEC\n",
       "39    Complications peculiar to certain specified pr...\n",
       "40        Other forms of chronic ischemic heart disease\n",
       "41                                             Pleurisy\n",
       "42      Care involving use of rehabilitation procedures\n",
       "43                                        Heart failure\n",
       "44        Other and unspecified intracranial hemorrhage\n",
       "45    Disorders of menstruation and other abnormal b...\n",
       "46                                        Heart failure\n",
       "47                              Schizophrenic disorders\n",
       "48        Other forms of chronic ischemic heart disease\n",
       "49                                        Heart failure\n",
       "Name: diag_1, dtype: object"
      ]
     },
     "execution_count": 226,
     "metadata": {},
     "output_type": "execute_result"
    }
   ],
   "source": [
    "diabetic_data['diag_1'][:50].apply(lambda x: get_icd_description(x))"
   ]
  },
  {
   "cell_type": "code",
   "execution_count": 234,
   "metadata": {},
   "outputs": [
    {
     "name": "stderr",
     "output_type": "stream",
     "text": [
      "23/12/22 19:35:54 WARN SimpleFunctionRegistry: The function get_icd_description replaced a previously registered function.\n"
     ]
    }
   ],
   "source": [
    "get_icd_description_udf = spark.udf.register('get_icd_description', get_icd_description, StringType())"
   ]
  },
  {
   "cell_type": "code",
   "execution_count": 228,
   "metadata": {},
   "outputs": [],
   "source": [
    "diabetic_data_spark2 = spark.createDataFrame(diabetic_data)"
   ]
  },
  {
   "cell_type": "code",
   "execution_count": 236,
   "metadata": {},
   "outputs": [],
   "source": [
    "diabetic_data_spark2 = diabetic_data_spark2.withColumn('diag_1_description', get_icd_description_udf('diag_1'))\n",
    "diabetic_data_spark2 = diabetic_data_spark2.withColumn('diag_2_description', get_icd_description_udf('diag_2'))\n",
    "diabetic_data_spark2 = diabetic_data_spark2.withColumn('diag_3_description', get_icd_description_udf('diag_3'))"
   ]
  },
  {
   "cell_type": "code",
   "execution_count": 237,
   "metadata": {},
   "outputs": [
    {
     "data": {
      "text/plain": [
       "['encounter_id',\n",
       " 'patient_nbr',\n",
       " 'race',\n",
       " 'gender',\n",
       " 'age',\n",
       " 'weight',\n",
       " 'admission_type_id',\n",
       " 'discharge_disposition_id',\n",
       " 'admission_source_id',\n",
       " 'time_in_hospital',\n",
       " 'payer_code',\n",
       " 'medical_specialty',\n",
       " 'num_lab_procedures',\n",
       " 'num_procedures',\n",
       " 'num_medications',\n",
       " 'number_outpatient',\n",
       " 'number_emergency',\n",
       " 'number_inpatient',\n",
       " 'diag_1',\n",
       " 'diag_2',\n",
       " 'diag_3',\n",
       " 'number_diagnoses',\n",
       " 'max_glu_serum',\n",
       " 'A1Cresult',\n",
       " 'metformin',\n",
       " 'repaglinide',\n",
       " 'nateglinide',\n",
       " 'chlorpropamide',\n",
       " 'glimepiride',\n",
       " 'acetohexamide',\n",
       " 'glipizide',\n",
       " 'glyburide',\n",
       " 'tolbutamide',\n",
       " 'pioglitazone',\n",
       " 'rosiglitazone',\n",
       " 'acarbose',\n",
       " 'miglitol',\n",
       " 'troglitazone',\n",
       " 'tolazamide',\n",
       " 'examide',\n",
       " 'citoglipton',\n",
       " 'insulin',\n",
       " 'glyburide-metformin',\n",
       " 'glipizide-metformin',\n",
       " 'glimepiride-pioglitazone',\n",
       " 'metformin-rosiglitazone',\n",
       " 'metformin-pioglitazone',\n",
       " 'change',\n",
       " 'diabetesMed',\n",
       " 'readmitted',\n",
       " 'diag_1_description',\n",
       " 'diag_2_description',\n",
       " 'diag_3_description']"
      ]
     },
     "execution_count": 237,
     "metadata": {},
     "output_type": "execute_result"
    }
   ],
   "source": [
    "diabetic_data_spark2.columns"
   ]
  },
  {
   "cell_type": "code",
   "execution_count": 76,
   "metadata": {},
   "outputs": [],
   "source": [
    "medication_data_spark = diabetic_data_spark.select(*medication_columns).withColumn(\"medication_data\", explode(build_med_change_dict_udf(*medication_columns))).selectExpr(\"medication_data.*\")\n",
    "\n"
   ]
  },
  {
   "cell_type": "code",
   "execution_count": 183,
   "metadata": {},
   "outputs": [],
   "source": [
    "# spark.stop()"
   ]
  },
  {
   "cell_type": "code",
   "execution_count": null,
   "metadata": {},
   "outputs": [],
   "source": [
    "diabetic_data_spark2"
   ]
  },
  {
   "cell_type": "code",
   "execution_count": 239,
   "metadata": {},
   "outputs": [],
   "source": [
    "diagnosis_spark_df = (\n",
    "    diabetic_data_spark2.selectExpr(\"diag_1 as diag\", \"diag_1_description as diag_description\")\n",
    "    .union(diabetic_data_spark2.selectExpr(\"diag_2 as diag\", \"diag_2_description as diag_description\"))\n",
    "    .union(diabetic_data_spark2.selectExpr(\"diag_3 as diag\", \"diag_3_description as diag_description\"))\n",
    ")"
   ]
  },
  {
   "cell_type": "code",
   "execution_count": 242,
   "metadata": {},
   "outputs": [
    {
     "name": "stderr",
     "output_type": "stream",
     "text": [
      "                                                                                \r"
     ]
    },
    {
     "data": {
      "text/plain": [
       "305298"
      ]
     },
     "execution_count": 242,
     "metadata": {},
     "output_type": "execute_result"
    }
   ],
   "source": [
    "diagnosis_spark_df.count()"
   ]
  },
  {
   "cell_type": "code",
   "execution_count": 243,
   "metadata": {},
   "outputs": [],
   "source": [
    "diagnosis_spark_df = diagnosis_spark_df.dropDuplicates([\"diag\", \"diag_description\"])"
   ]
  },
  {
   "cell_type": "code",
   "execution_count": 244,
   "metadata": {},
   "outputs": [
    {
     "name": "stderr",
     "output_type": "stream",
     "text": [
      "23/12/22 19:54:22 WARN DAGScheduler: Broadcasting large task binary with size 1012.6 KiB\n",
      "23/12/22 20:10:49 WARN DAGScheduler: Broadcasting large task binary with size 1018.9 KiB\n",
      "                                                                                \r"
     ]
    },
    {
     "data": {
      "text/plain": [
       "916"
      ]
     },
     "execution_count": 244,
     "metadata": {},
     "output_type": "execute_result"
    }
   ],
   "source": [
    "diagnosis_spark_df.count()"
   ]
  },
  {
   "cell_type": "code",
   "execution_count": 245,
   "metadata": {},
   "outputs": [
    {
     "name": "stderr",
     "output_type": "stream",
     "text": [
      "23/12/22 20:11:08 WARN DAGScheduler: Broadcasting large task binary with size 1012.6 KiB\n",
      "23/12/22 20:25:48 WARN DAGScheduler: Broadcasting large task binary with size 1216.6 KiB\n",
      "                                                                                \r"
     ]
    }
   ],
   "source": [
    "diagnosis_spark_df.write.parquet('diagnosis')"
   ]
  },
  {
   "cell_type": "code",
   "execution_count": 246,
   "metadata": {},
   "outputs": [],
   "source": [
    "spark.stop()"
   ]
  },
  {
   "cell_type": "markdown",
   "metadata": {},
   "source": [
    "# Admiss "
   ]
  }
 ],
 "metadata": {
  "kernelspec": {
   "display_name": "Python 3",
   "language": "python",
   "name": "python3"
  },
  "language_info": {
   "codemirror_mode": {
    "name": "ipython",
    "version": 3
   },
   "file_extension": ".py",
   "mimetype": "text/x-python",
   "name": "python",
   "nbconvert_exporter": "python",
   "pygments_lexer": "ipython3",
   "version": "3.10.9"
  }
 },
 "nbformat": 4,
 "nbformat_minor": 2
}
